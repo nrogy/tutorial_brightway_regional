{
 "cells": [
  {
   "cell_type": "markdown",
   "metadata": {},
   "source": [
    "# Goals of this notebook"
   ]
  },
  {
   "cell_type": "markdown",
   "metadata": {},
   "source": [
    "In this notebook, we will import the background and foreground LCA databases. We will also create the biosphere database."
   ]
  },
  {
   "cell_type": "markdown",
   "metadata": {},
   "source": [
    "# Importing packages"
   ]
  },
  {
   "cell_type": "code",
   "execution_count": 1,
   "metadata": {},
   "outputs": [],
   "source": [
    "import bw2data as bd\n",
    "import bw2io as bi"
   ]
  },
  {
   "cell_type": "code",
   "execution_count": 2,
   "metadata": {},
   "outputs": [],
   "source": [
    "assert bd.__version__ > (4, 0), \"This notebook is only for Brightway 2.5\""
   ]
  },
  {
   "cell_type": "code",
   "execution_count": 3,
   "metadata": {},
   "outputs": [],
   "source": [
    "bd.projects.set_current(\"LC IMPACT case study\")"
   ]
  },
  {
   "cell_type": "markdown",
   "metadata": {},
   "source": [
    "# Create the `ecoinvent 3.8` database with the `cutoff` system model and the associated `biosphere` database"
   ]
  },
  {
   "cell_type": "code",
   "execution_count": 9,
   "metadata": {},
   "outputs": [],
   "source": [
    "from ecoinvent_interface import EcoinventRelease, Settings, ReleaseType, CachedStorage\n",
    "\n",
    "# Enter your identifiers for Ecoquery\n",
    "username = \"\"\n",
    "password = \"\"\n",
    "\n",
    "ei_version = '3.8'\n",
    "system_model = 'cutoff'\n",
    "\n",
    "my_settings = Settings(username=username, password=password)"
   ]
  },
  {
   "cell_type": "code",
   "execution_count": 10,
   "metadata": {},
   "outputs": [],
   "source": [
    "ei = EcoinventRelease(my_settings)"
   ]
  },
  {
   "cell_type": "code",
   "execution_count": 11,
   "metadata": {
    "scrolled": true
   },
   "outputs": [
    {
     "data": {
      "text/plain": [
       "['3.10.1',\n",
       " '3.10',\n",
       " '3.9.1',\n",
       " '3.9',\n",
       " '3.8',\n",
       " '3.7.1',\n",
       " '3.7',\n",
       " '3.6',\n",
       " '3.5',\n",
       " '3.4',\n",
       " '3.3',\n",
       " '3.2',\n",
       " '3.1',\n",
       " '3.01',\n",
       " '2']"
      ]
     },
     "execution_count": 11,
     "metadata": {},
     "output_type": "execute_result"
    }
   ],
   "source": [
    "ei.list_versions()"
   ]
  },
  {
   "cell_type": "code",
   "execution_count": 12,
   "metadata": {},
   "outputs": [
    {
     "data": {
      "text/plain": [
       "['cutoff', 'consequential', 'apos']"
      ]
     },
     "execution_count": 12,
     "metadata": {},
     "output_type": "execute_result"
    }
   ],
   "source": [
    "ei.list_system_models(ei_version)"
   ]
  },
  {
   "cell_type": "code",
   "execution_count": 13,
   "metadata": {},
   "outputs": [
    {
     "data": {
      "text/plain": [
       "['Allocation cut-off by classification',\n",
       " 'Substitution, consequential, long-term',\n",
       " 'Allocation at the Point of Substitution']"
      ]
     },
     "execution_count": 13,
     "metadata": {},
     "output_type": "execute_result"
    }
   ],
   "source": [
    "ei.list_system_models(ei_version, translate=False)"
   ]
  },
  {
   "cell_type": "code",
   "execution_count": 14,
   "metadata": {},
   "outputs": [
    {
     "data": {
      "text/plain": [
       "WindowsPath('C:/Users/rogyn/AppData/Local/pylca/EcoinventInterface/cache/ecoinvent 3.8_cutoff_ecoSpold02')"
      ]
     },
     "execution_count": 14,
     "metadata": {},
     "output_type": "execute_result"
    }
   ],
   "source": [
    "ei.get_release(version=ei_version, system_model=system_model, release_type=ReleaseType.ecospold)"
   ]
  },
  {
   "cell_type": "code",
   "execution_count": 15,
   "metadata": {},
   "outputs": [
    {
     "data": {
      "text/plain": [
       "['ecoinvent 3.10_cutoff_ecoSpold02.7z',\n",
       " 'ecoinvent 3.10_LCIA_implementation.7z',\n",
       " 'ecoinvent 3.10.1_cutoff_ecoSpold02.7z',\n",
       " 'ecoinvent 3.10.1_LCIA_implementation.7z',\n",
       " 'ecoinvent 3.8_cutoff_ecoSpold02.7z',\n",
       " 'ecoinvent 3.8_LCIA_implementation.7z']"
      ]
     },
     "execution_count": 15,
     "metadata": {},
     "output_type": "execute_result"
    }
   ],
   "source": [
    "cs = CachedStorage()\n",
    "list(cs.catalogue)"
   ]
  },
  {
   "cell_type": "code",
   "execution_count": 16,
   "metadata": {},
   "outputs": [
    {
     "name": "stdout",
     "output_type": "stream",
     "text": [
      "Applying strategy: normalize_units\n",
      "Applying strategy: drop_unspecified_subcategories\n",
      "Applying strategy: ensure_categories_are_tuples\n",
      "Applied 3 strategies in 0.01 seconds\n",
      "4421 datasets\n",
      "\t0 exchanges\n",
      "\t0 unlinked exchanges (0 unique)\n",
      "\t\n"
     ]
    },
    {
     "name": "stderr",
     "output_type": "stream",
     "text": [
      "100%|███████████████████████████████████████████████████████████████████████████| 4421/4421 [00:00<00:00, 13270.93it/s]\n"
     ]
    },
    {
     "name": "stdout",
     "output_type": "stream",
     "text": [
      "Vacuuming database \n",
      "Created database: biosphere3\n",
      "Extracting XML data from 19565 datasets\n",
      "Extracted 19565 datasets in 82.57 seconds\n",
      "Applying strategy: normalize_units\n",
      "Applying strategy: update_ecoinvent_locations\n",
      "Applying strategy: remove_zero_amount_coproducts\n",
      "Applying strategy: remove_zero_amount_inputs_with_no_activity\n",
      "Applying strategy: remove_unnamed_parameters\n",
      "Applying strategy: es2_assign_only_product_with_amount_as_reference_product\n",
      "Applying strategy: assign_single_product_as_activity\n",
      "Applying strategy: create_composite_code\n",
      "Applying strategy: drop_unspecified_subcategories\n",
      "Applying strategy: fix_ecoinvent_flows_pre35\n",
      "Applying strategy: drop_temporary_outdated_biosphere_flows\n",
      "Applying strategy: link_biosphere_by_flow_uuid\n",
      "Applying strategy: link_internal_technosphere_by_composite_code\n",
      "Applying strategy: delete_exchanges_missing_activity\n",
      "Applying strategy: delete_ghost_exchanges\n",
      "Applying strategy: remove_uncertainty_from_negative_loss_exchanges\n",
      "Applying strategy: fix_unreasonably_high_lognormal_uncertainties\n",
      "Applying strategy: convert_activity_parameters_to_list\n",
      "Applying strategy: add_cpc_classification_from_single_reference_product\n",
      "Applying strategy: delete_none_synonyms\n",
      "Applying strategy: update_social_flows_in_older_consequential\n",
      "Applying strategy: set_lognormal_loc_value\n",
      "Applied 22 strategies in 12.04 seconds\n",
      "19565 datasets\n",
      "\t629959 exchanges\n",
      "\t0 unlinked exchanges (0 unique)\n",
      "\t\n",
      "Not able to determine geocollections for all datasets. This database is not ready for regionalization.\n"
     ]
    },
    {
     "name": "stderr",
     "output_type": "stream",
     "text": [
      "100%|███████████████████████████████████████████████████████████████████████████| 19565/19565 [01:41<00:00, 192.16it/s]\n"
     ]
    },
    {
     "name": "stdout",
     "output_type": "stream",
     "text": [
      "Vacuuming database \n",
      "Created database: ecoinvent-3.8-cutoff\n",
      "Substituting Chlortoluron for Chlorotoluron\n",
      "Skipping unmatched flow Cyfluthrin:(soil, agricultural)\n",
      "Substituting Thiophanate-methyl for Thiophanat-methyl\n",
      "Substituting Fluorochloridone for Flurochloridone\n"
     ]
    }
   ],
   "source": [
    "bi.import_ecoinvent_release(ei_version, system_model, username, password,\n",
    "                            biosphere_name='biosphere3')"
   ]
  },
  {
   "cell_type": "markdown",
   "metadata": {},
   "source": [
    "# Create database for our functional unit\n",
    "\n",
    "We now define our functional unit. We will look at one passenger kilometer of transport in a modern auto (EURO 5 standard), with two fuel possibilities:\n",
    "\n",
    "* Low-sulfur petrol\n",
    "* E85 from Brazilian sugarcane\n",
    "\n",
    "The functional unit and the foreground LCI database are available in the separate spreadsheet `\"ethanol-inventory.xlsx\"`, which is available in this tutorial."
   ]
  },
  {
   "cell_type": "markdown",
   "metadata": {},
   "source": [
    "<u> Hypothesis :"
   ]
  },
  {
   "cell_type": "markdown",
   "metadata": {},
   "source": [
    "Metastudies ([1](http://doi.org/10.1021/es305209a                        ),[2](http://doi.org/10.1021/es502495u                        )) on the effective substitution ratio of ethanol compared to petrol are inconclusive. We therefore assume that ethanol substitutes 1:1 for petrol on an energetic basis in modern, fuel-injected cars.\n",
    "\n",
    "Ethanol has a lower energy density than petrol, therefor *1* kg of petrol is equivalent to *1.46* kg of ethanol\n",
    "\n",
    "Emissions from the combustion of ethanol differ from low-sulfur petrol. However, this difference is difficult to summarize, as it is dependent on, among other things, engine type, driving patterns, and\n",
    "climate ([3](http://doi.org/10.1016/j.rser.2013.03.046                 ), [4](http://doi.org/10.1016/j.rser.2013.09.022                 ), [5](http://doi.org/10.1177/0954407011407254                 )). Given this uncertainty, we make the following rough estimates:\n",
    "\n",
    "* Ethanol has effectively no sulfur, so no SO2 is emitted.\n",
    "* Emissions of CO decrease 10 percent\n",
    "* Hydrocarbon emissions decrease 10 percent"
   ]
  },
  {
   "cell_type": "code",
   "execution_count": 21,
   "metadata": {},
   "outputs": [
    {
     "name": "stderr",
     "output_type": "stream",
     "text": [
      "C:\\Users\\rogyn\\AppData\\Local\\anaconda3\\envs\\brightway_regional_2\\lib\\site-packages\\openpyxl\\worksheet\\_read_only.py:85: UserWarning: Unknown extension is not supported and will be removed\n",
      "  for idx, row in parser.parse():\n"
     ]
    },
    {
     "name": "stdout",
     "output_type": "stream",
     "text": [
      "Extracted 1 worksheets in 0.41 seconds\n",
      "Applying strategy: csv_restore_tuples\n",
      "Applying strategy: csv_restore_booleans\n",
      "Applying strategy: csv_numerize\n",
      "Applying strategy: csv_drop_unknown\n",
      "Applying strategy: csv_add_missing_exchanges_section\n",
      "Applying strategy: normalize_units\n",
      "Applying strategy: normalize_biosphere_categories\n",
      "Applying strategy: normalize_biosphere_names\n",
      "Applying strategy: strip_biosphere_exc_locations\n",
      "Applying strategy: set_code_by_activity_hash\n",
      "Applying strategy: link_iterable_by_fields\n",
      "Applying strategy: assign_only_product_as_production\n",
      "Applying strategy: link_technosphere_by_activity_hash\n",
      "Applying strategy: drop_falsey_uncertainty_fields_but_keep_zeros\n",
      "Applying strategy: convert_uncertainty_types_to_integers\n",
      "Applying strategy: convert_activity_parameters_to_list\n",
      "Applied 16 strategies in 21.29 seconds\n",
      "Applying strategy: link_iterable_by_fields\n",
      "Applying strategy: link_iterable_by_fields\n",
      "6 datasets\n",
      "\t70 exchanges\n",
      "\t0 unlinked exchanges (0 unique)\n",
      "\t\n"
     ]
    }
   ],
   "source": [
    "imp = bi.ExcelImporter(\"ethanol-inventory.xlsx\")\n",
    "imp.apply_strategies()\n",
    "imp.match_database(\"ecoinvent-3.8-cutoff\", fields=('name', 'unit', 'location'))\n",
    "imp.match_database(fields=['name'])\n",
    "assert imp.all_linked"
   ]
  },
  {
   "cell_type": "code",
   "execution_count": 22,
   "metadata": {},
   "outputs": [
    {
     "name": "stdout",
     "output_type": "stream",
     "text": [
      "Not able to determine geocollections for all datasets. This database is not ready for regionalization.\n"
     ]
    },
    {
     "name": "stderr",
     "output_type": "stream",
     "text": [
      "100%|███████████████████████████████████████████████████████████████████████████████████| 6/6 [00:00<00:00, 546.94it/s]"
     ]
    },
    {
     "name": "stdout",
     "output_type": "stream",
     "text": [
      "Vacuuming database \n"
     ]
    },
    {
     "name": "stderr",
     "output_type": "stream",
     "text": [
      "\n"
     ]
    },
    {
     "name": "stdout",
     "output_type": "stream",
     "text": [
      "Created database: Fuel comparison\n"
     ]
    }
   ],
   "source": [
    "imp.write_database()"
   ]
  }
 ],
 "metadata": {
  "kernelspec": {
   "display_name": "Python 3 (ipykernel)",
   "language": "python",
   "name": "python3"
  },
  "language_info": {
   "codemirror_mode": {
    "name": "ipython",
    "version": 3
   },
   "file_extension": ".py",
   "mimetype": "text/x-python",
   "name": "python",
   "nbconvert_exporter": "python",
   "pygments_lexer": "ipython3",
   "version": "3.10.14"
  },
  "toc": {
   "base_numbering": 1,
   "nav_menu": {},
   "number_sections": true,
   "sideBar": true,
   "skip_h1_title": false,
   "title_cell": "Table of Contents",
   "title_sidebar": "Contents",
   "toc_cell": false,
   "toc_position": {},
   "toc_section_display": true,
   "toc_window_display": false
  }
 },
 "nbformat": 4,
 "nbformat_minor": 4
}
